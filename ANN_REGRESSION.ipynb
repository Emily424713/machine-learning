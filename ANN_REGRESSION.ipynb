{
 "cells": [
  {
   "cell_type": "code",
   "execution_count": 36,
   "id": "3bcb6726",
   "metadata": {},
   "outputs": [],
   "source": [
    "import pandas as pd\n",
    "from sklearn.model_selection import train_test_split\n",
    "from sklearn.preprocessing import StandardScaler\n",
    "from tensorflow import keras\n",
    "from tensorflow.keras import layers\n",
    "from sklearn.metrics import accuracy_score\n",
    "from sklearn.model_selection import train_test_split\n",
    "from tensorflow import keras\n",
    "from tensorflow.keras import layers"
   ]
  },
  {
   "cell_type": "code",
   "execution_count": 37,
   "id": "29942d59",
   "metadata": {},
   "outputs": [],
   "source": [
    "file_path = \"TrainDataset2023.xls\"\n",
    "df = pd.read_excel(file_path)"
   ]
  },
  {
   "cell_type": "code",
   "execution_count": 38,
   "id": "74a7240f",
   "metadata": {},
   "outputs": [],
   "source": [
    "X = df.drop(columns=[\"pCR (outcome)\", 'RelapseFreeSurvival (outcome)',\"ID\"])\n",
    "y = df['RelapseFreeSurvival (outcome)']"
   ]
  },
  {
   "cell_type": "code",
   "execution_count": 39,
   "id": "1aad5b20",
   "metadata": {},
   "outputs": [],
   "source": [
    "# i used MinMaxScaler to normalize the features\n",
    "scaler = StandardScaler()\n",
    "X_normalized = scaler.fit_transform(X)\n",
    "X_normalized_df = pd.DataFrame(X_normalized, columns=X.columns)\n",
    "X_normalized_df['ID'] = df[\"ID\"]"
   ]
  },
  {
   "cell_type": "code",
   "execution_count": 40,
   "id": "db137c99",
   "metadata": {},
   "outputs": [],
   "source": [
    "X_train, X_test, y_train, y_test = train_test_split(X_normalized_df, y, test_size=0.3, random_state=42)"
   ]
  },
  {
   "cell_type": "code",
   "execution_count": 41,
   "id": "069c181c",
   "metadata": {},
   "outputs": [],
   "source": [
    "# the ANN model\n",
    "model = keras.Sequential([\n",
    "    layers.Dense(64, activation='relu', input_shape=(X_train.shape[1] -1,)),\n",
    "    layers.Dense(32, activation='relu'),\n",
    "    layers.Dense(1)  # Output layer for regression, no activation function\n",
    "])"
   ]
  },
  {
   "cell_type": "code",
   "execution_count": 42,
   "id": "9a5be345",
   "metadata": {},
   "outputs": [],
   "source": [
    "# then i compiled the model\n",
    "model.compile(optimizer='adam', loss='mean_absolute_error')"
   ]
  },
  {
   "cell_type": "code",
   "execution_count": 45,
   "id": "42264fb8",
   "metadata": {},
   "outputs": [
    {
     "name": "stdout",
     "output_type": "stream",
     "text": [
      "Epoch 1/50\n",
      "7/7 [==============================] - 1s 23ms/step - loss: 57.1149 - val_loss: 50.6185\n",
      "Epoch 2/50\n",
      "7/7 [==============================] - 0s 6ms/step - loss: 55.8612 - val_loss: 49.5011\n",
      "Epoch 3/50\n",
      "7/7 [==============================] - 0s 7ms/step - loss: 54.6611 - val_loss: 48.3808\n",
      "Epoch 4/50\n",
      "7/7 [==============================] - 0s 7ms/step - loss: 53.2699 - val_loss: 46.9664\n",
      "Epoch 5/50\n",
      "7/7 [==============================] - 0s 7ms/step - loss: 51.5437 - val_loss: 45.1915\n",
      "Epoch 6/50\n",
      "7/7 [==============================] - 0s 6ms/step - loss: 49.4123 - val_loss: 43.1466\n",
      "Epoch 7/50\n",
      "7/7 [==============================] - 0s 6ms/step - loss: 46.5914 - val_loss: 40.6439\n",
      "Epoch 8/50\n",
      "7/7 [==============================] - 0s 6ms/step - loss: 43.4902 - val_loss: 38.0472\n",
      "Epoch 9/50\n",
      "7/7 [==============================] - 0s 7ms/step - loss: 40.1755 - val_loss: 35.1685\n",
      "Epoch 10/50\n",
      "7/7 [==============================] - 0s 7ms/step - loss: 36.9329 - val_loss: 32.5579\n",
      "Epoch 11/50\n",
      "7/7 [==============================] - 0s 7ms/step - loss: 34.4699 - val_loss: 30.9431\n",
      "Epoch 12/50\n",
      "7/7 [==============================] - 0s 7ms/step - loss: 32.6257 - val_loss: 29.8716\n",
      "Epoch 13/50\n",
      "7/7 [==============================] - 0s 8ms/step - loss: 30.6579 - val_loss: 29.0778\n",
      "Epoch 14/50\n",
      "7/7 [==============================] - 0s 7ms/step - loss: 28.8727 - val_loss: 28.3403\n",
      "Epoch 15/50\n",
      "7/7 [==============================] - 0s 7ms/step - loss: 27.3161 - val_loss: 27.6276\n",
      "Epoch 16/50\n",
      "7/7 [==============================] - 0s 7ms/step - loss: 25.8124 - val_loss: 27.2391\n",
      "Epoch 17/50\n",
      "7/7 [==============================] - 0s 7ms/step - loss: 24.6695 - val_loss: 26.6880\n",
      "Epoch 18/50\n",
      "7/7 [==============================] - 0s 7ms/step - loss: 23.7789 - val_loss: 26.1628\n",
      "Epoch 19/50\n",
      "7/7 [==============================] - 0s 7ms/step - loss: 22.8859 - val_loss: 25.8028\n",
      "Epoch 20/50\n",
      "7/7 [==============================] - 0s 8ms/step - loss: 22.2606 - val_loss: 25.6936\n",
      "Epoch 21/50\n",
      "7/7 [==============================] - 0s 7ms/step - loss: 21.4975 - val_loss: 25.1571\n",
      "Epoch 22/50\n",
      "7/7 [==============================] - 0s 8ms/step - loss: 21.0354 - val_loss: 24.4670\n",
      "Epoch 23/50\n",
      "7/7 [==============================] - 0s 8ms/step - loss: 20.5109 - val_loss: 23.8602\n",
      "Epoch 24/50\n",
      "7/7 [==============================] - 0s 8ms/step - loss: 20.3505 - val_loss: 23.7242\n",
      "Epoch 25/50\n",
      "7/7 [==============================] - 0s 7ms/step - loss: 20.0065 - val_loss: 23.8113\n",
      "Epoch 26/50\n",
      "7/7 [==============================] - 0s 7ms/step - loss: 19.6488 - val_loss: 23.8960\n",
      "Epoch 27/50\n",
      "7/7 [==============================] - 0s 8ms/step - loss: 19.4860 - val_loss: 23.8865\n",
      "Epoch 28/50\n",
      "7/7 [==============================] - 0s 9ms/step - loss: 19.3471 - val_loss: 23.9012\n",
      "Epoch 29/50\n",
      "7/7 [==============================] - 0s 7ms/step - loss: 19.2080 - val_loss: 23.9708\n",
      "Epoch 30/50\n",
      "7/7 [==============================] - 0s 8ms/step - loss: 19.0699 - val_loss: 24.0917\n",
      "Epoch 31/50\n",
      "7/7 [==============================] - 0s 7ms/step - loss: 19.0724 - val_loss: 23.9518\n",
      "Epoch 32/50\n",
      "7/7 [==============================] - 0s 7ms/step - loss: 18.8989 - val_loss: 23.6514\n",
      "Epoch 33/50\n",
      "7/7 [==============================] - 0s 8ms/step - loss: 18.9112 - val_loss: 23.2671\n",
      "Epoch 34/50\n",
      "7/7 [==============================] - 0s 7ms/step - loss: 18.8579 - val_loss: 23.1477\n",
      "Epoch 35/50\n",
      "7/7 [==============================] - 0s 7ms/step - loss: 18.6777 - val_loss: 23.5002\n",
      "Epoch 36/50\n",
      "7/7 [==============================] - 0s 9ms/step - loss: 18.6319 - val_loss: 23.7732\n",
      "Epoch 37/50\n",
      "7/7 [==============================] - 0s 10ms/step - loss: 18.4664 - val_loss: 23.7288\n",
      "Epoch 38/50\n",
      "7/7 [==============================] - 0s 10ms/step - loss: 18.3120 - val_loss: 23.6051\n",
      "Epoch 39/50\n",
      "7/7 [==============================] - 0s 9ms/step - loss: 18.2230 - val_loss: 23.5367\n",
      "Epoch 40/50\n",
      "7/7 [==============================] - 0s 7ms/step - loss: 18.1857 - val_loss: 23.3965\n",
      "Epoch 41/50\n",
      "7/7 [==============================] - 0s 7ms/step - loss: 18.1535 - val_loss: 23.5974\n",
      "Epoch 42/50\n",
      "7/7 [==============================] - 0s 7ms/step - loss: 18.0304 - val_loss: 23.7603\n",
      "Epoch 43/50\n",
      "7/7 [==============================] - 0s 8ms/step - loss: 17.9885 - val_loss: 23.8598\n",
      "Epoch 44/50\n",
      "7/7 [==============================] - 0s 7ms/step - loss: 17.8356 - val_loss: 23.9977\n",
      "Epoch 45/50\n",
      "7/7 [==============================] - 0s 7ms/step - loss: 17.9129 - val_loss: 24.1093\n",
      "Epoch 46/50\n",
      "7/7 [==============================] - 0s 7ms/step - loss: 17.8459 - val_loss: 24.1189\n",
      "Epoch 47/50\n",
      "7/7 [==============================] - 0s 7ms/step - loss: 17.8253 - val_loss: 23.9668\n",
      "Epoch 48/50\n",
      "7/7 [==============================] - 0s 7ms/step - loss: 17.7388 - val_loss: 23.6590\n",
      "Epoch 49/50\n",
      "7/7 [==============================] - 0s 7ms/step - loss: 17.6876 - val_loss: 23.7170\n",
      "Epoch 50/50\n",
      "7/7 [==============================] - 0s 7ms/step - loss: 17.5269 - val_loss: 23.8128\n"
     ]
    },
    {
     "data": {
      "text/plain": [
       "<keras.src.callbacks.History at 0x1dbbae41c90>"
      ]
     },
     "execution_count": 45,
     "metadata": {},
     "output_type": "execute_result"
    }
   ],
   "source": [
    "# train\n",
    "model.fit(X_train.loc[:, X_train.columns != 'ID'], y_train, epochs=50, batch_size=32, validation_split=0.3)"
   ]
  },
  {
   "cell_type": "code",
   "execution_count": 50,
   "id": "622d9d55",
   "metadata": {},
   "outputs": [
    {
     "name": "stdout",
     "output_type": "stream",
     "text": [
      "4/4 [==============================] - 0s 2ms/step - loss: 24.6645\n",
      "Mean Absolute Error (MAE): 24.664546966552734\n",
      "4/4 [==============================] - 0s 2ms/step\n"
     ]
    }
   ],
   "source": [
    "# evaluated the model on the test set\n",
    "mae = model.evaluate(X_test.loc[:, X_test.columns != 'ID']\n",
    ", y_test)\n",
    "print(f'Mean Absolute Error (MAE): {mae}')\n",
    "\n",
    "# predictions\n",
    "y_pred = model.predict(X_test.loc[:, X_test.columns != 'ID'])"
   ]
  },
  {
   "cell_type": "code",
   "execution_count": 52,
   "id": "6af46fa1",
   "metadata": {},
   "outputs": [
    {
     "data": {
      "text/plain": [
       "(120, 1)"
      ]
     },
     "execution_count": 52,
     "metadata": {},
     "output_type": "execute_result"
    }
   ],
   "source": [
    "y_pred.shape"
   ]
  },
  {
   "cell_type": "code",
   "execution_count": 54,
   "id": "27e7838b",
   "metadata": {},
   "outputs": [],
   "source": [
    "data = { 'ID': X_test[\"ID\"], 'Prediction': y_pred.reshape((y_pred.shape[0],))}\n",
    "final_df = pd.DataFrame(data)"
   ]
  },
  {
   "cell_type": "code",
   "execution_count": 55,
   "id": "fb1832bd",
   "metadata": {},
   "outputs": [
    {
     "data": {
      "text/html": [
       "<div>\n",
       "<style scoped>\n",
       "    .dataframe tbody tr th:only-of-type {\n",
       "        vertical-align: middle;\n",
       "    }\n",
       "\n",
       "    .dataframe tbody tr th {\n",
       "        vertical-align: top;\n",
       "    }\n",
       "\n",
       "    .dataframe thead th {\n",
       "        text-align: right;\n",
       "    }\n",
       "</style>\n",
       "<table border=\"1\" class=\"dataframe\">\n",
       "  <thead>\n",
       "    <tr style=\"text-align: right;\">\n",
       "      <th></th>\n",
       "      <th>ID</th>\n",
       "      <th>Prediction</th>\n",
       "    </tr>\n",
       "  </thead>\n",
       "  <tbody>\n",
       "    <tr>\n",
       "      <th>209</th>\n",
       "      <td>TRG002654</td>\n",
       "      <td>70.506615</td>\n",
       "    </tr>\n",
       "    <tr>\n",
       "      <th>280</th>\n",
       "      <td>TRG002763</td>\n",
       "      <td>55.779705</td>\n",
       "    </tr>\n",
       "    <tr>\n",
       "      <th>33</th>\n",
       "      <td>TRG002359</td>\n",
       "      <td>45.962505</td>\n",
       "    </tr>\n",
       "    <tr>\n",
       "      <th>210</th>\n",
       "      <td>TRG002656</td>\n",
       "      <td>62.662991</td>\n",
       "    </tr>\n",
       "    <tr>\n",
       "      <th>93</th>\n",
       "      <td>TRG002467</td>\n",
       "      <td>68.627609</td>\n",
       "    </tr>\n",
       "    <tr>\n",
       "      <th>...</th>\n",
       "      <td>...</td>\n",
       "      <td>...</td>\n",
       "    </tr>\n",
       "    <tr>\n",
       "      <th>60</th>\n",
       "      <td>TRG002407</td>\n",
       "      <td>22.932665</td>\n",
       "    </tr>\n",
       "    <tr>\n",
       "      <th>79</th>\n",
       "      <td>TRG002448</td>\n",
       "      <td>45.948597</td>\n",
       "    </tr>\n",
       "    <tr>\n",
       "      <th>285</th>\n",
       "      <td>TRG002771</td>\n",
       "      <td>62.066917</td>\n",
       "    </tr>\n",
       "    <tr>\n",
       "      <th>305</th>\n",
       "      <td>TRG002798</td>\n",
       "      <td>46.473110</td>\n",
       "    </tr>\n",
       "    <tr>\n",
       "      <th>281</th>\n",
       "      <td>TRG002765</td>\n",
       "      <td>30.249628</td>\n",
       "    </tr>\n",
       "  </tbody>\n",
       "</table>\n",
       "<p>120 rows × 2 columns</p>\n",
       "</div>"
      ],
      "text/plain": [
       "            ID  Prediction\n",
       "209  TRG002654   70.506615\n",
       "280  TRG002763   55.779705\n",
       "33   TRG002359   45.962505\n",
       "210  TRG002656   62.662991\n",
       "93   TRG002467   68.627609\n",
       "..         ...         ...\n",
       "60   TRG002407   22.932665\n",
       "79   TRG002448   45.948597\n",
       "285  TRG002771   62.066917\n",
       "305  TRG002798   46.473110\n",
       "281  TRG002765   30.249628\n",
       "\n",
       "[120 rows x 2 columns]"
      ]
     },
     "execution_count": 55,
     "metadata": {},
     "output_type": "execute_result"
    }
   ],
   "source": [
    "final_df"
   ]
  },
  {
   "cell_type": "code",
   "execution_count": null,
   "id": "8a0e742e",
   "metadata": {},
   "outputs": [],
   "source": []
  }
 ],
 "metadata": {
  "kernelspec": {
   "display_name": "Python 3 (ipykernel)",
   "language": "python",
   "name": "python3"
  },
  "language_info": {
   "codemirror_mode": {
    "name": "ipython",
    "version": 3
   },
   "file_extension": ".py",
   "mimetype": "text/x-python",
   "name": "python",
   "nbconvert_exporter": "python",
   "pygments_lexer": "ipython3",
   "version": "3.11.5"
  }
 },
 "nbformat": 4,
 "nbformat_minor": 5
}
